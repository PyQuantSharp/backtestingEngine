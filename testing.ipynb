{
 "cells": [
  {
   "cell_type": "code",
   "execution_count": 2,
   "metadata": {
    "pycharm": {
     "name": "#%%\n"
    }
   },
   "outputs": [],
   "source": [
    "import pandas as pd\n",
    "df = pd.read_csv('exampleData/AAPL.csv')"
   ]
  },
  {
   "cell_type": "code",
   "execution_count": 3,
   "metadata": {
    "pycharm": {
     "name": "#%%\n"
    }
   },
   "outputs": [
    {
     "name": "stdout",
     "output_type": "stream",
     "text": [
      "            Date        Open        High         Low       Close   Adj Close  \\\n",
      "0     2017-05-08   37.257500   38.424999   37.257500   38.252499   36.063492   \n",
      "1     2017-05-09   38.467499   38.720001   38.362499   38.497501   36.294472   \n",
      "2     2017-05-10   38.407501   38.485001   38.027500   38.314999   36.122414   \n",
      "3     2017-05-11   38.112499   38.517502   38.077499   38.487499   36.434807   \n",
      "4     2017-05-12   38.674999   39.105000   38.667500   39.025002   36.943653   \n",
      "...          ...         ...         ...         ...         ...         ...   \n",
      "1255  2022-05-02  156.710007  158.229996  153.270004  157.960007  157.728256   \n",
      "1256  2022-05-03  158.149994  160.710007  156.320007  159.479996  159.246017   \n",
      "1257  2022-05-04  159.669998  166.479996  159.259995  166.020004  165.776428   \n",
      "1258  2022-05-05  163.850006  164.080002  154.949997  156.770004  156.540009   \n",
      "1259  2022-05-06  156.009995  159.440002  154.179993  157.279999  157.279999   \n",
      "\n",
      "         Volume  \n",
      "0     195009600  \n",
      "1     156521600  \n",
      "2     103222800  \n",
      "3     109020400  \n",
      "4     130108000  \n",
      "...         ...  \n",
      "1255  123055300  \n",
      "1256   88966500  \n",
      "1257  108256500  \n",
      "1258  130525300  \n",
      "1259  116055700  \n",
      "\n",
      "[1260 rows x 7 columns]\n"
     ]
    }
   ],
   "source": [
    "print(df)"
   ]
  },
  {
   "cell_type": "code",
   "execution_count": 3,
   "metadata": {
    "pycharm": {
     "name": "#%%\n"
    }
   },
   "outputs": [],
   "source": []
  },
  {
   "cell_type": "code",
   "execution_count": 4,
   "metadata": {
    "pycharm": {
     "name": "#%%\n"
    }
   },
   "outputs": [
    {
     "name": "stdout",
     "output_type": "stream",
     "text": [
      "HALLO\n"
     ]
    }
   ],
   "source": [
    "print(\"HALLO\")"
   ]
  },
  {
   "cell_type": "code",
   "execution_count": 4,
   "metadata": {
    "pycharm": {
     "name": "#%%\n"
    }
   },
   "outputs": [],
   "source": []
  }
 ],
 "metadata": {
  "kernelspec": {
   "display_name": "Python 3 (ipykernel)",
   "language": "python",
   "name": "python3"
  },
  "language_info": {
   "codemirror_mode": {
    "name": "ipython",
    "version": 2
   },
   "file_extension": ".py",
   "mimetype": "text/x-python",
   "name": "python",
   "nbconvert_exporter": "python",
   "pygments_lexer": "ipython2",
   "version": "2.7.6"
  }
 },
 "nbformat": 4,
 "nbformat_minor": 1
}